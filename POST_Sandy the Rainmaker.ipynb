{
 "cells": [
  {
   "cell_type": "markdown",
   "metadata": {},
   "source": [
    "# Sandy the Rainmaker: The Electoral Impact of a Super Storm\n",
    "\n",
    "<i>What follows is a summary of the findings of a research paper for which a [gated link](https://www.cambridge.org/core/journals/ps-political-science-and-politics/article/sandy-the-rainmaker-the-electoral-impact-of-a-super-storm/C2BF9E0BD3D0787193E1EEBD2A5DBA6F) as well as a [pre-publication copy](Velez and Martin_2013.pdf) are available.</i>\n",
    "\n",
    "---\n",
    "\n",
    "2012, an election coincided with one of the biggest storms for years. Research has shown that Democrats tend to be disproportionately negatively impacted by poor weather, most likely due to problems with transportation affecting lower income voters likelihood to turnout, who in turn are disproportionately more likely to vote Democratic.\n",
    "\n",
    "-\tStorm damage exceeded $50 Billion. Among the most costly storms for a hundred years.\n",
    "\n",
    "Usually we’re talking about rain or snow. What about a hurricane? If you’re a firm believer that campaigns are an opportunity for voters to learn more about the candidates, you could see natural disaster as an opportunity to show their competence. If you’re a little more cynical, you might say that dispensing disaster relief is a ready way for incumbents to shell out cash to constituents they want to vote for them – though this is generally frowned upon, there’s some evidence to suggest this kind of thing happens.\n",
    "\n",
    "What’s more, a growing body of evidence suggests that political leaders get blamed all the time for things that they have no control over – shark attack, droughts, fluctuations in global oil prices – or they may see a bump when the local college football team is doing well.\n",
    "\n",
    "So, some reasons to suggest it could help, others to suggest it could hurt.\n",
    "\n",
    "We estimated that counties hit by the hurricane got a bump of around 4 points (plus or minus a two point margin of error). How do we know? \n"
   ]
  },
  {
   "cell_type": "markdown",
   "metadata": {},
   "source": [
    "<div class=\"image\">\n",
    "<img src=\"https://user-images.githubusercontent.com/25906562/27714432-705d43a8-5cf6-11e7-8859-f9f2bb92305d.png\" width=\"700\">\n",
    "<img ...>\n",
    "    <div align='center'><strong>FEMA map of Sandy Impact</strong>\n",
    "    </div>\n",
    "</div>"
   ]
  },
  {
   "cell_type": "markdown",
   "metadata": {},
   "source": [
    "By all accounts, though there were large, long-term power outages in affected areas, the public tended not to put the blame on the President. Available polls reported broad support for Governors Cuomo and Christie of New York and New Jersey, and FEMA and President Obama received positive ratings afterward. \n",
    "\n",
    "We used FEMA data to identify which counties received at least some storm damage from the Hurricane. As anyone who’s closely tracked the Weather Channel knows, it can be difficult to predict precisely when and where a storm may hit. The element of randomness means that we can treat this statistically like a natural experiment – some places were hit and some places weren’t. Barring some ecclesiastical interpretations of these events, the reason why one county was spared and another harmed aren’t necessarily due to their politics, so we can compare one group to the other and conclude that the difference in their election outcomes is likely due to the storm.\n",
    "\n",
    "Of course some places are more likely than others to be hit; hurricanes tend to stick to the coasts and that’s where a lot of Democrats are. To account for this, we use a matching algorithm to find counties that are as similar as possible accept for the fact that one was hit and the other unharmed (measuring things like demographics, income, education, voter turnout and past weather damage). This allows us to make a better apples-to-apples comparison.\n"
   ]
  },
  {
   "cell_type": "markdown",
   "metadata": {},
   "source": [
    "<img src=\"https://user-images.githubusercontent.com/25906562/27714434-707261f2-5cf6-11e7-917b-6842b0a3d1df.png\">"
   ]
  },
  {
   "cell_type": "markdown",
   "metadata": {},
   "source": [
    "North Carolina was mostly spared though some weather models predicted the storm going through the state. What if every county in the state had been hit by the storm, as was the case in Maryland and New Jersey? Obama would have won the state.\n"
   ]
  },
  {
   "cell_type": "markdown",
   "metadata": {},
   "source": [
    "<img src=\"https://user-images.githubusercontent.com/25906562/27714433-707272dc-5cf6-11e7-9394-f4b9834fb489.png\">"
   ]
  },
  {
   "cell_type": "markdown",
   "metadata": {},
   "source": [
    "Virginia was another key swing state, narrowly won by Obama. There was a good bit more storm damage there. By our estimate, if the storm had steered entirely away from the state, it would likely have gone to Romney, though given that so many of the affected states were not close, we can’t say Obama owes his victory to the storm."
   ]
  }
 ],
 "metadata": {
  "kernelspec": {
   "display_name": "Python 3",
   "language": "python",
   "name": "python3"
  },
  "language_info": {
   "codemirror_mode": {
    "name": "ipython",
    "version": 3
   },
   "file_extension": ".py",
   "mimetype": "text/x-python",
   "name": "python",
   "nbconvert_exporter": "python",
   "pygments_lexer": "ipython3",
   "version": "3.6.0"
  }
 },
 "nbformat": 4,
 "nbformat_minor": 2
}
